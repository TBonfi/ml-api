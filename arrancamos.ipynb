{
 "cells": [
  {
   "cell_type": "code",
   "execution_count": 103,
   "metadata": {},
   "outputs": [],
   "source": [
    "import pandas as pd\n",
    "from sklearn.datasets import load_wine\n",
    "from sklearn.ensemble import RandomForestClassifier\n",
    "from sklearn.metrics import classification_report, confusion_matrix\n",
    "from sklearn.linear_model import LogisticRegression"
   ]
  },
  {
   "cell_type": "code",
   "execution_count": 219,
   "metadata": {},
   "outputs": [],
   "source": [
    "X = load_wine(return_X_y=False, as_frame=True)"
   ]
  },
  {
   "cell_type": "code",
   "execution_count": 220,
   "metadata": {},
   "outputs": [
    {
     "name": "stderr",
     "output_type": "stream",
     "text": [
      "d:\\Anaconda\\lib\\site-packages\\pandas\\core\\frame.py:5039: SettingWithCopyWarning: \n",
      "A value is trying to be set on a copy of a slice from a DataFrame\n",
      "\n",
      "See the caveats in the documentation: https://pandas.pydata.org/pandas-docs/stable/user_guide/indexing.html#returning-a-view-versus-a-copy\n",
      "  return super().rename(\n"
     ]
    }
   ],
   "source": [
    "X['data'].rename(columns={'od280/od315_of_diluted_wines':'od280'}, inplace=True)"
   ]
  },
  {
   "cell_type": "code",
   "execution_count": 221,
   "metadata": {},
   "outputs": [
    {
     "data": {
      "text/plain": [
       "RandomForestClassifier(n_estimators=10, random_state=42)"
      ]
     },
     "execution_count": 221,
     "metadata": {},
     "output_type": "execute_result"
    }
   ],
   "source": [
    "rf = RandomForestClassifier(random_state=42, n_estimators=10)\n",
    "rf.fit(X['data'][X['data'].index.isin([100,177])], X['target'][X['target'].index.isin([100,177])])"
   ]
  },
  {
   "cell_type": "code",
   "execution_count": 222,
   "metadata": {},
   "outputs": [
    {
     "name": "stdout",
     "output_type": "stream",
     "text": [
      "              precision    recall  f1-score   support\n",
      "\n",
      "           0       0.00      0.00      0.00        59\n",
      "           1       0.45      0.97      0.62        71\n",
      "           2       0.92      0.48      0.63        48\n",
      "\n",
      "    accuracy                           0.52       178\n",
      "   macro avg       0.46      0.48      0.42       178\n",
      "weighted avg       0.43      0.52      0.42       178\n",
      "\n"
     ]
    },
    {
     "name": "stderr",
     "output_type": "stream",
     "text": [
      "d:\\Anaconda\\lib\\site-packages\\sklearn\\metrics\\_classification.py:1221: UndefinedMetricWarning: Precision and F-score are ill-defined and being set to 0.0 in labels with no predicted samples. Use `zero_division` parameter to control this behavior.\n",
      "  _warn_prf(average, modifier, msg_start, len(result))\n"
     ]
    }
   ],
   "source": [
    "y_pred = rf.predict(X['data'])\n",
    "print(classification_report(X['target'], y_pred))"
   ]
  },
  {
   "cell_type": "code",
   "execution_count": 223,
   "metadata": {},
   "outputs": [
    {
     "data": {
      "text/plain": [
       "array([[ 0, 59,  0],\n",
       "       [ 0, 69,  2],\n",
       "       [ 0, 25, 23]], dtype=int64)"
      ]
     },
     "execution_count": 223,
     "metadata": {},
     "output_type": "execute_result"
    }
   ],
   "source": [
    "confusion_matrix(X['target'], y_pred) "
   ]
  },
  {
   "cell_type": "code",
   "execution_count": 224,
   "metadata": {},
   "outputs": [
    {
     "data": {
      "text/plain": [
       "LogisticRegression(random_state=42)"
      ]
     },
     "execution_count": 224,
     "metadata": {},
     "output_type": "execute_result"
    }
   ],
   "source": [
    "lr = LogisticRegression(random_state=42)\n",
    "lr.fit(X['data'][X['data'].index.isin([0,177])], X['target'][X['target'].index.isin([0,177])])"
   ]
  },
  {
   "cell_type": "code",
   "execution_count": 225,
   "metadata": {},
   "outputs": [
    {
     "name": "stdout",
     "output_type": "stream",
     "text": [
      "              precision    recall  f1-score   support\n",
      "\n",
      "           0       0.85      0.90      0.88        59\n",
      "           1       0.00      0.00      0.00        71\n",
      "           2       0.37      0.90      0.52        48\n",
      "\n",
      "    accuracy                           0.54       178\n",
      "   macro avg       0.41      0.60      0.47       178\n",
      "weighted avg       0.38      0.54      0.43       178\n",
      "\n"
     ]
    },
    {
     "name": "stderr",
     "output_type": "stream",
     "text": [
      "d:\\Anaconda\\lib\\site-packages\\sklearn\\metrics\\_classification.py:1221: UndefinedMetricWarning: Precision and F-score are ill-defined and being set to 0.0 in labels with no predicted samples. Use `zero_division` parameter to control this behavior.\n",
      "  _warn_prf(average, modifier, msg_start, len(result))\n"
     ]
    }
   ],
   "source": [
    "y_pred_lr = lr.predict(X['data'])\n",
    "print(classification_report(X['target'], y_pred_lr))"
   ]
  },
  {
   "cell_type": "code",
   "execution_count": 226,
   "metadata": {},
   "outputs": [
    {
     "data": {
      "text/plain": [
       "array([[53,  0,  6],\n",
       "       [ 4,  0, 67],\n",
       "       [ 5,  0, 43]], dtype=int64)"
      ]
     },
     "execution_count": 226,
     "metadata": {},
     "output_type": "execute_result"
    }
   ],
   "source": [
    "confusion_matrix(X['target'], y_pred_lr) "
   ]
  },
  {
   "cell_type": "code",
   "execution_count": 278,
   "metadata": {},
   "outputs": [],
   "source": [
    "import pickle\n",
    "\n",
    "pickle.dump(rf, open('saved_models/rf_model_01.pkl', 'wb'))\n",
    "\n",
    "pickle.dump(lr, open('saved_models/lr_model_01.pkl', 'wb'))\n",
    "\n",
    "pickle.dump(list(X['data'].columns), open('saved_models/columns_01.pkl', 'wb'))\n"
   ]
  },
  {
   "cell_type": "code",
   "execution_count": null,
   "metadata": {},
   "outputs": [],
   "source": [
    "import json\n",
    "## para testear en postman\n",
    "final = json.dumps([X['data'].loc[90].to_dict(), X['data'].loc[0].to_dict()], indent=2)\n",
    "print(final)"
   ]
  },
  {
   "cell_type": "code",
   "execution_count": 228,
   "metadata": {},
   "outputs": [],
   "source": [
    "import requests"
   ]
  },
  {
   "cell_type": "code",
   "execution_count": 298,
   "metadata": {},
   "outputs": [
    {
     "name": "stdout",
     "output_type": "stream",
     "text": [
      "<Response [200]>\n",
      "prediccion:  {'model': 'lr_01', 'model_': 'lr_01', 'model__': 'lr_01', 'prediction': '[0, 2]'}\n"
     ]
    }
   ],
   "source": [
    "response = requests.post(\"http://127.0.0.1:12345/predict/v1/lr_01\", json=[X['data'].loc[0].to_dict(), X['data'].loc[177].to_dict()])\n",
    "print(response)\n",
    "print('prediccion: ', response.json())"
   ]
  },
  {
   "cell_type": "code",
   "execution_count": 297,
   "metadata": {},
   "outputs": [
    {
     "name": "stdout",
     "output_type": "stream",
     "text": [
      "<Response [200]>\n",
      "prediccion:  {'model': 'rf_01', 'model_': 'rf_01', 'model__': 'rf_01', 'prediction': '[1, 2]'}\n"
     ]
    }
   ],
   "source": [
    "response = requests.post(\"http://127.0.0.1:12345/predict/v1/rf_01\", json=[X['data'].loc[0].to_dict(), X['data'].loc[177].to_dict()])\n",
    "print(response)\n",
    "print('prediccion: ', response.json())"
   ]
  },
  {
   "cell_type": "markdown",
   "metadata": {},
   "source": [
    "el monitoreo se abre desde http://localhost:12345/dashboard/login (ojo con el puerto), pass y user admin admin\n",
    "Monitoreo directo sobre el endpoint piola en http://localhost:12345/dashboard/endpoint/1/hourly_load (endpoint 1 acá)\n"
   ]
  },
  {
   "cell_type": "code",
   "execution_count": 300,
   "metadata": {},
   "outputs": [],
   "source": [
    "import random\n",
    "import time\n",
    "\n",
    "for i in range(200):\n",
    "    time.sleep(random.randint(1,3))\n",
    "    model_ = random.choice(['rf_01', 'lr_01'])\n",
    "    response = requests.post(f\"http://127.0.0.1:12345/predict/v1/{model_}\", json=[X['data'].sample(random.randint(0, len(X['data']))).to_dict()])"
   ]
  },
  {
   "cell_type": "code",
   "execution_count": 315,
   "metadata": {},
   "outputs": [
    {
     "data": {
      "text/html": [
       "<div>\n",
       "<style scoped>\n",
       "    .dataframe tbody tr th:only-of-type {\n",
       "        vertical-align: middle;\n",
       "    }\n",
       "\n",
       "    .dataframe tbody tr th {\n",
       "        vertical-align: top;\n",
       "    }\n",
       "\n",
       "    .dataframe thead th {\n",
       "        text-align: right;\n",
       "    }\n",
       "</style>\n",
       "<table border=\"1\" class=\"dataframe\">\n",
       "  <thead>\n",
       "    <tr style=\"text-align: right;\">\n",
       "      <th></th>\n",
       "      <th>id</th>\n",
       "      <th>endpoint_id</th>\n",
       "      <th>duration</th>\n",
       "      <th>time_requested</th>\n",
       "      <th>version_requested</th>\n",
       "      <th>group_by</th>\n",
       "      <th>ip</th>\n",
       "      <th>status_code</th>\n",
       "    </tr>\n",
       "  </thead>\n",
       "  <tbody>\n",
       "    <tr>\n",
       "      <th>0</th>\n",
       "      <td>1</td>\n",
       "      <td>1</td>\n",
       "      <td>9.184361</td>\n",
       "      <td>2022-10-30 23:26:39.085794</td>\n",
       "      <td>1.0</td>\n",
       "      <td>None</td>\n",
       "      <td>127.0.0.1</td>\n",
       "      <td>200</td>\n",
       "    </tr>\n",
       "    <tr>\n",
       "      <th>1</th>\n",
       "      <td>2</td>\n",
       "      <td>1</td>\n",
       "      <td>5.230665</td>\n",
       "      <td>2022-10-30 23:26:40.175787</td>\n",
       "      <td>1.0</td>\n",
       "      <td>None</td>\n",
       "      <td>127.0.0.1</td>\n",
       "      <td>200</td>\n",
       "    </tr>\n",
       "    <tr>\n",
       "      <th>2</th>\n",
       "      <td>3</td>\n",
       "      <td>1</td>\n",
       "      <td>9.117126</td>\n",
       "      <td>2022-10-30 23:26:40.726398</td>\n",
       "      <td>1.0</td>\n",
       "      <td>None</td>\n",
       "      <td>127.0.0.1</td>\n",
       "      <td>200</td>\n",
       "    </tr>\n",
       "    <tr>\n",
       "      <th>3</th>\n",
       "      <td>4</td>\n",
       "      <td>1</td>\n",
       "      <td>11.031866</td>\n",
       "      <td>2022-10-30 23:26:40.917601</td>\n",
       "      <td>1.0</td>\n",
       "      <td>None</td>\n",
       "      <td>127.0.0.1</td>\n",
       "      <td>200</td>\n",
       "    </tr>\n",
       "    <tr>\n",
       "      <th>4</th>\n",
       "      <td>5</td>\n",
       "      <td>1</td>\n",
       "      <td>12.999296</td>\n",
       "      <td>2022-10-30 23:26:41.111080</td>\n",
       "      <td>1.0</td>\n",
       "      <td>None</td>\n",
       "      <td>127.0.0.1</td>\n",
       "      <td>200</td>\n",
       "    </tr>\n",
       "    <tr>\n",
       "      <th>...</th>\n",
       "      <td>...</td>\n",
       "      <td>...</td>\n",
       "      <td>...</td>\n",
       "      <td>...</td>\n",
       "      <td>...</td>\n",
       "      <td>...</td>\n",
       "      <td>...</td>\n",
       "      <td>...</td>\n",
       "    </tr>\n",
       "    <tr>\n",
       "      <th>490</th>\n",
       "      <td>491</td>\n",
       "      <td>1</td>\n",
       "      <td>3.006935</td>\n",
       "      <td>2022-11-01 00:19:38.103014</td>\n",
       "      <td>1.0</td>\n",
       "      <td>None</td>\n",
       "      <td>127.0.0.1</td>\n",
       "      <td>200</td>\n",
       "    </tr>\n",
       "    <tr>\n",
       "      <th>491</th>\n",
       "      <td>492</td>\n",
       "      <td>1</td>\n",
       "      <td>3.041267</td>\n",
       "      <td>2022-11-01 00:19:40.122862</td>\n",
       "      <td>1.0</td>\n",
       "      <td>None</td>\n",
       "      <td>127.0.0.1</td>\n",
       "      <td>200</td>\n",
       "    </tr>\n",
       "    <tr>\n",
       "      <th>492</th>\n",
       "      <td>493</td>\n",
       "      <td>1</td>\n",
       "      <td>3.041983</td>\n",
       "      <td>2022-11-01 00:19:41.140197</td>\n",
       "      <td>1.0</td>\n",
       "      <td>None</td>\n",
       "      <td>127.0.0.1</td>\n",
       "      <td>200</td>\n",
       "    </tr>\n",
       "    <tr>\n",
       "      <th>493</th>\n",
       "      <td>494</td>\n",
       "      <td>1</td>\n",
       "      <td>3.023863</td>\n",
       "      <td>2022-11-01 00:19:43.161365</td>\n",
       "      <td>1.0</td>\n",
       "      <td>None</td>\n",
       "      <td>127.0.0.1</td>\n",
       "      <td>200</td>\n",
       "    </tr>\n",
       "    <tr>\n",
       "      <th>494</th>\n",
       "      <td>495</td>\n",
       "      <td>1</td>\n",
       "      <td>2.997398</td>\n",
       "      <td>2022-11-01 00:19:44.175255</td>\n",
       "      <td>1.0</td>\n",
       "      <td>None</td>\n",
       "      <td>127.0.0.1</td>\n",
       "      <td>200</td>\n",
       "    </tr>\n",
       "  </tbody>\n",
       "</table>\n",
       "<p>495 rows × 8 columns</p>\n",
       "</div>"
      ],
      "text/plain": [
       "      id  endpoint_id   duration              time_requested  \\\n",
       "0      1            1   9.184361  2022-10-30 23:26:39.085794   \n",
       "1      2            1   5.230665  2022-10-30 23:26:40.175787   \n",
       "2      3            1   9.117126  2022-10-30 23:26:40.726398   \n",
       "3      4            1  11.031866  2022-10-30 23:26:40.917601   \n",
       "4      5            1  12.999296  2022-10-30 23:26:41.111080   \n",
       "..   ...          ...        ...                         ...   \n",
       "490  491            1   3.006935  2022-11-01 00:19:38.103014   \n",
       "491  492            1   3.041267  2022-11-01 00:19:40.122862   \n",
       "492  493            1   3.041983  2022-11-01 00:19:41.140197   \n",
       "493  494            1   3.023863  2022-11-01 00:19:43.161365   \n",
       "494  495            1   2.997398  2022-11-01 00:19:44.175255   \n",
       "\n",
       "    version_requested group_by         ip  status_code  \n",
       "0                 1.0     None  127.0.0.1          200  \n",
       "1                 1.0     None  127.0.0.1          200  \n",
       "2                 1.0     None  127.0.0.1          200  \n",
       "3                 1.0     None  127.0.0.1          200  \n",
       "4                 1.0     None  127.0.0.1          200  \n",
       "..                ...      ...        ...          ...  \n",
       "490               1.0     None  127.0.0.1          200  \n",
       "491               1.0     None  127.0.0.1          200  \n",
       "492               1.0     None  127.0.0.1          200  \n",
       "493               1.0     None  127.0.0.1          200  \n",
       "494               1.0     None  127.0.0.1          200  \n",
       "\n",
       "[495 rows x 8 columns]"
      ]
     },
     "execution_count": 315,
     "metadata": {},
     "output_type": "execute_result"
    }
   ],
   "source": [
    "\n",
    "import sqlite3\n",
    "\n",
    "# para leer la base de datos que generamos (ver esquema acá https://flask-monitoringdashboard.readthedocs.io/en/latest/developing.html#architecture)\n",
    "\n",
    "\n",
    "con = sqlite3.connect(\"flask_monitoringdashboard.db\")\n",
    "\n",
    "requests_df = pd.read_sql_query(\"SELECT * FROM request\", con)\n",
    "\n",
    "con.close()\n",
    "\n",
    "requests_df\n"
   ]
  }
 ],
 "metadata": {
  "kernelspec": {
   "display_name": "Python 3.8.5 ('base')",
   "language": "python",
   "name": "python3"
  },
  "language_info": {
   "codemirror_mode": {
    "name": "ipython",
    "version": 3
   },
   "file_extension": ".py",
   "mimetype": "text/x-python",
   "name": "python",
   "nbconvert_exporter": "python",
   "pygments_lexer": "ipython3",
   "version": "3.8.5"
  },
  "orig_nbformat": 4,
  "vscode": {
   "interpreter": {
    "hash": "88279d2366fe020547cde40dd65aa0e3aa662a6ec1f3ca12d88834876c85e1a6"
   }
  }
 },
 "nbformat": 4,
 "nbformat_minor": 2
}
